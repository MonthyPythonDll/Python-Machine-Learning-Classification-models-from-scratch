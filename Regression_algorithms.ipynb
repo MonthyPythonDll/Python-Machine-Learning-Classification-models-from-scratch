{
 "cells": [
  {
   "cell_type": "markdown",
   "metadata": {},
   "source": [
    "### Import libraries"
   ]
  },
  {
   "cell_type": "code",
   "execution_count": 1,
   "metadata": {},
   "outputs": [],
   "source": [
    "import numpy as np\n",
    "from random import randrange\n",
    "import operator\n",
    "import pandas as pd\n",
    "import matplotlib.pyplot as plt"
   ]
  },
  {
   "cell_type": "markdown",
   "metadata": {},
   "source": [
    "### Create support functions"
   ]
  },
  {
   "cell_type": "code",
   "execution_count": 2,
   "metadata": {},
   "outputs": [],
   "source": [
    "# function that calculate mean squared error\n",
    "def mean_squared_error(y):\n",
    "    \"\"\"It takes label dataset as input and returns value for mean squared error\"\"\"\n",
    "    mse=0\n",
    "    pred=np.mean(y)  # find mean value in label dataset\n",
    "    for i in range(len(y)):\n",
    "        error=y[i]-pred  # find error for each instance\n",
    "        mse+=error*error # total squared error\n",
    "    return mse/len(y)  # return mean square error"
   ]
  },
  {
   "cell_type": "code",
   "execution_count": 3,
   "metadata": {},
   "outputs": [],
   "source": [
    "# function that calculates loss function for Decision Tree regressor\n",
    "def loss_function_dt(left_labels, right_labels):\n",
    "    \"\"\"It takes two datasets as input and calculate cost function based on mean squared error\"\"\"\n",
    "    n_labels=len(left_labels)+len(right_labels) # total number of samples from both datasets\n",
    "    prob_left=len(left_labels)/n_labels  # probability (weighted by test size) for first dataset\n",
    "    prob_right=len(right_labels)/n_labels   # probability (weighted by test size) for second dataset\n",
    "    loss=(prob_left*mean_squared_error(left_labels)+prob_right*mean_squared_error(right_labels)) # calculate cost function\n",
    "    return loss"
   ]
  },
  {
   "cell_type": "code",
   "execution_count": 4,
   "metadata": {},
   "outputs": [],
   "source": [
    "# function that calculates mean value\n",
    "def find_mean(y):\n",
    "\treturn np.mean(y)"
   ]
  },
  {
   "cell_type": "code",
   "execution_count": 5,
   "metadata": {},
   "outputs": [],
   "source": [
    "# function that find all potential splits of feature dataset\n",
    "def splits(X):\n",
    "\tsplits={}\n",
    "\tn_columns=X.shape[1]\n",
    "\tfor column in range(n_columns):\n",
    "\t\tsplits[column] = []\n",
    "\t\tvalues=X[:,column]\n",
    "\t\tunique_values=np.unique(values)\n",
    "\n",
    "\t\tfor index in range (1,len(unique_values)):\n",
    "\t\t\tcurrent_value = unique_values[index]\n",
    "\t\t\tprevious_value = unique_values[index-1]\n",
    "\t\t\tsplit=(current_value+previous_value)/2\n",
    "\t\t\tsplits[column].append(split)\n",
    "\n",
    "\treturn splits"
   ]
  },
  {
   "cell_type": "code",
   "execution_count": 6,
   "metadata": {},
   "outputs": [],
   "source": [
    "def data_split(X,y, column, value):\n",
    "\tdata=np.column_stack((X,y))\n",
    "\tsplit_column=X[:,column]\n",
    "\tleft_split_y=data[np.where([split_column<=value]),-1:]\n",
    "\tright_split_y=data[np.where([split_column>value]),-1:]\n",
    "\tleft_split_x=data[np.where([split_column<=value]),:-1]\n",
    "\tright_split_x=data[np.where([split_column>value]),:-1]\n",
    "\n",
    "\treturn left_split_x[1], right_split_x[1],left_split_y[1], right_split_y[1]"
   ]
  },
  {
   "cell_type": "code",
   "execution_count": 7,
   "metadata": {},
   "outputs": [],
   "source": [
    "# function that find the best split of dataset based on minimal loss\n",
    "def best_split(X,y):\n",
    "    potential_splits=splits(X)\n",
    "    loss=9999999\n",
    "    for column_index in potential_splits:\n",
    "        for value in potential_splits[column_index]:\n",
    "            _,_,left_data, right_data = data_split(X,y,column_index,value)\n",
    "            current_loss=loss_function_dt(left_data,right_data)\n",
    "            if current_loss<loss:\n",
    "                loss=current_loss\n",
    "                best_split_column=column_index\n",
    "                best_split_value=value\n",
    "\n",
    "    return best_split_column, best_split_value"
   ]
  },
  {
   "cell_type": "code",
   "execution_count": 8,
   "metadata": {},
   "outputs": [],
   "source": [
    "#Function that splits test and training dataset\n",
    "def train_test_split(X,y,ratio):\n",
    "\trandom_order = np.random.permutation(len(X))\n",
    "\tX,y = X[random_order], y[random_order]\n",
    "\ttest_size=int(ratio*len(X))\n",
    "\ttrain_size=int(len(X)-test_size)\n",
    "\tX_train=X[:train_size,:]\n",
    "\ty_train=y[:train_size]\n",
    "\tX_test=X[-test_size:,:]\n",
    "\ty_test=y[-test_size:]\n",
    "\n",
    "\treturn X_train, y_train, X_test, y_test"
   ]
  },
  {
   "cell_type": "code",
   "execution_count": 9,
   "metadata": {},
   "outputs": [],
   "source": [
    "# function that perform bootstraping\n",
    "def sub_sampling(X,y,sample_size):\n",
    "\tdataset=np.column_stack((X,y))\n",
    "\tempty_array = np.array([], dtype=np.int64).reshape(0,X.shape[1]+1)\n",
    "\tn_samples=int(len(dataset)*sample_size)\n",
    "\tfor i in range(n_samples):\n",
    "\t\tindex=randrange(len(dataset))\n",
    "\t\tif i==0:\n",
    "\t\t\tsample_array=np.vstack([empty_array, dataset[index].reshape(1,X.shape[1]+1)])\n",
    "\t\telse:\n",
    "\t\t\tsample_array=np.concatenate((sample_array, dataset[index].reshape(1,X.shape[1]+1)), axis=0)\n",
    "\n",
    "\treturn sample_array[:,:-1], sample_array[:,-1:]"
   ]
  },
  {
   "cell_type": "code",
   "execution_count": 10,
   "metadata": {},
   "outputs": [],
   "source": [
    "# function that find categorical features and convert them to numerical\n",
    "\n",
    "def cat_to_num(data):\n",
    "\tfor i in range(data.shape[1]):\n",
    "\t\tunique_values=np.unique(data[:,i])\n",
    "\t\tif len(unique_values)<10:\n",
    "\t\t\tfor j in range(data.shape[0]):\n",
    "\t\t\t\tdata[j,i]=unique_values.tolist().index(data[j,i])\n",
    "\treturn data"
   ]
  },
  {
   "cell_type": "code",
   "execution_count": 11,
   "metadata": {},
   "outputs": [],
   "source": [
    "# function that create out of bag dataset\n",
    "\n",
    "def find_oob(all_data, sampled_data):\n",
    "    all_data_view = all_data.view([('',all_data.dtype)]*all_data.shape[1])\n",
    "    sampled_data_view = sampled_data.view([('',sampled_data.dtype)]*sampled_data.shape[1])\n",
    "    intersected = np.isin(all_data_view, sampled_data_view,invert=False)\n",
    "    lista=[]\n",
    "    for i in range(len(all_data)):\n",
    "        if intersected[i]:\n",
    "            lista.append(i)\n",
    "    oob_data=np.delete(all_data,lista,0)\n",
    "    return oob_data"
   ]
  },
  {
   "cell_type": "markdown",
   "metadata": {},
   "source": [
    "### Classification algorithms"
   ]
  },
  {
   "cell_type": "markdown",
   "metadata": {},
   "source": [
    "#### Decision Tree"
   ]
  },
  {
   "cell_type": "code",
   "execution_count": 12,
   "metadata": {},
   "outputs": [],
   "source": [
    "#Decision Tree Regressor training function\n",
    "def decision_tree_regression(X,y,depth=0, max_depth=3,min_samples=3):\n",
    "\tX=cat_to_num(X)\n",
    "\tif (len(X)<min_samples) or (depth==max_depth):\n",
    "\t\tresult=find_mean(y)\n",
    "\t\treturn result\t\t\n",
    "\telse:\n",
    "\t\tdepth+=1\n",
    "\t\tpossible_splits=splits(X)\n",
    "\t\tsplit_column,split_value=best_split(X,y)\n",
    "\t\tleft_split_x, right_split_x,left_split_y, right_split_y= data_split(X,y, split_column, split_value)\n",
    "\n",
    "\t\tcondition=\"{} <= {}\".format(split_column, split_value)\n",
    "\t\tsub_tree={condition: []}\n",
    "\n",
    "\t\ttrue_node=decision_tree_regression(left_split_x,left_split_y, depth,max_depth, min_samples)\n",
    "\t\tfalse_node=decision_tree_regression(right_split_x,right_split_y, depth,max_depth, min_samples)\n",
    "\n",
    "\t\tif true_node==false_node:\n",
    "\t\t\tsub_tree=true_node\n",
    "\t\telse:\n",
    "\t\t\tsub_tree[condition].append(true_node)\n",
    "\t\t\tsub_tree[condition].append(false_node)\n",
    "\n",
    "\t\treturn sub_tree\n"
   ]
  },
  {
   "cell_type": "code",
   "execution_count": 13,
   "metadata": {},
   "outputs": [],
   "source": [
    "# Decision Tree Regressor predict function\n",
    "def predict_result(input_data,model):\n",
    "\tcondition=list(model.keys())[0]\n",
    "\tfeature,_,value=condition.split()\n",
    "\n",
    "\tif input_data[int(feature)] <= float(value):\n",
    "\t\tresult=model[condition][0]\n",
    "\telse:\n",
    "\t\tresult=model[condition][1]\n",
    "\n",
    "\tif not isinstance(result,dict):\n",
    "\t\treturn result\n",
    "\telse:\n",
    "\t\tresidual_tree=result\n",
    "\t\treturn predict_result(input_data,residual_tree)"
   ]
  },
  {
   "cell_type": "markdown",
   "metadata": {},
   "source": [
    "#### Random Forest"
   ]
  },
  {
   "cell_type": "code",
   "execution_count": 14,
   "metadata": {},
   "outputs": [],
   "source": [
    "# Random Forest Regressor training function\n",
    "def random_forest_regression(X,y,n_trees=20, sample_size=0.9, max_depth=3, min_samples=3):\n",
    "    dataset=np.column_stack((X,y))\n",
    "    trees=[]\n",
    "    X_oob_list=[]\n",
    "    y_oob_list=[]\n",
    "    for i in range(n_trees):\n",
    "        X_sample, y_sample=sub_sampling(X,y,sample_size)\n",
    "        tree=decision_tree_regression(X_sample,y_sample,max_depth=max_depth,min_samples=min_samples)\n",
    "        current_data=np.column_stack((X_sample,y_sample))\n",
    "        oob_data=find_oob(dataset,current_data)\n",
    "        X_oob=oob_data[:,:-1]\n",
    "        y_oob=oob_data[:,-1:]\n",
    "        trees.append(tree)\n",
    "        X_oob_list.append(X_oob)\n",
    "        y_oob_list.append(y_oob)\n",
    "    return trees,X_oob_list,y_oob_list"
   ]
  },
  {
   "cell_type": "code",
   "execution_count": 15,
   "metadata": {},
   "outputs": [],
   "source": [
    "# Random Forest Regressor predict function\n",
    "def predict_result_random_forest(input_data,trees):\n",
    "\tresults=[]\n",
    "\tfor tree in trees:\n",
    "\t\tresult=predict_result(input_data,tree)\n",
    "\t\tresults.append(result)\n",
    "\n",
    "\tfinal_result=find_mean(results)\n",
    "\n",
    "\treturn final_result"
   ]
  },
  {
   "cell_type": "markdown",
   "metadata": {},
   "source": [
    "#### Gradient Boosting"
   ]
  },
  {
   "cell_type": "code",
   "execution_count": 16,
   "metadata": {},
   "outputs": [],
   "source": [
    "# Gradient Boosting training function\n",
    "def gradient_boosting(X,y, max_depth=3, min_samples=3,n_steps=5):\n",
    "    \"\"\" It takes Decision Tree parameters and number of predictors as input, and returns list of trees\"\"\"\n",
    "    trees=[]  # assign empty list\n",
    "    new_y=y  # assign new variable for labels\n",
    "    for i in range(n_steps): # iterate through all predictors\n",
    "        if np.mean(new_y)!=0:  # continoue if residual error is not 0\n",
    "            tree=decision_tree_regression(X,new_y,max_depth=max_depth,min_samples=min_samples)  # train DT\n",
    "            for row in range(len(X)):  # iterate through all samples\n",
    "                prediction=predict_result(X[row],tree)  # make prediction\n",
    "                residual=new_y[row]-prediction  # find residual error\n",
    "                new_y[row]=residual  # assign error as new label\n",
    "            trees.append(tree)\n",
    "    return trees"
   ]
  },
  {
   "cell_type": "code",
   "execution_count": 17,
   "metadata": {},
   "outputs": [],
   "source": [
    "# Gradient Boosting predict function\n",
    "def grad_boost_predict(input_data,trees):\n",
    "    \"\"\"It takes data for prediction and trees from Gradient Boosting as input, and returns result of prediction\"\"\"\n",
    "    predictions=[]  # assign empty list for predictions\n",
    "    for tree in trees:  # iterate through trees\n",
    "        prediction=predict_result(input_data,tree)  # make predictions\n",
    "        predictions.append(prediction)\n",
    "    result=sum(predictions)  # sum all predictions\n",
    "    return result"
   ]
  },
  {
   "cell_type": "markdown",
   "metadata": {},
   "source": [
    "### Model's evaluation functions"
   ]
  },
  {
   "cell_type": "code",
   "execution_count": 18,
   "metadata": {},
   "outputs": [],
   "source": [
    "# function that calculates mean squared error of test set for Decision Tree Regressor\n",
    "def DT_MSE(X_test,y_test,tree):\n",
    "\ttotal_error=0\n",
    "\tfor i in range(len(X_test)):\n",
    "\t\tprediction=predict_result(X_test[i],tree)\n",
    "\t\terror=prediction-y_test[i]\n",
    "\t\ttotal_error+=error*error\n",
    "\tmse=total_error/len(y_test)\n",
    "\treturn mse"
   ]
  },
  {
   "cell_type": "code",
   "execution_count": 19,
   "metadata": {},
   "outputs": [],
   "source": [
    "# function that calculates mean squared error of test set for Random Forest Regressor\n",
    "def RF_MSE(X_test,y_test,trees):\n",
    "\ttotal_error=0\n",
    "\tfor i in range(len(X_test)):\n",
    "\t\tprediction=predict_result_random_forest(X_test[i],trees)\n",
    "\t\terror=prediction-y_test[i]\n",
    "\t\ttotal_error+=error*error\n",
    "\tmse=total_error/len(y_test)\n",
    "\treturn mse"
   ]
  },
  {
   "cell_type": "code",
   "execution_count": 20,
   "metadata": {},
   "outputs": [],
   "source": [
    "# function that calculates mean squared error of test set for Gradient Boosting\n",
    "def GB_MSE(X_test,y_test,models):\n",
    "\ttotal_error=0\n",
    "\tfor i in range(len(X_test)):\n",
    "\t\tprediction=grad_boost_predict(X_test[i],models)\n",
    "\t\terror=prediction-y_test[i]\n",
    "\t\ttotal_error+=error*error\n",
    "\tmse=total_error/len(y_test)\n",
    "\treturn mse"
   ]
  },
  {
   "cell_type": "code",
   "execution_count": 21,
   "metadata": {},
   "outputs": [],
   "source": [
    "# function that calculate out-of-bag evaluation\n",
    "def oob_mse(trees,X_oob_list,y_oob_list):\n",
    "    scores=[]\n",
    "    for i in range(len(trees)):\n",
    "        pred=DT_MSE(X_oob_list[i],y_oob_list[i],trees[i])\n",
    "        scores.append(pred)    \n",
    "    return np.mean(scores)"
   ]
  },
  {
   "cell_type": "markdown",
   "metadata": {},
   "source": [
    "### Testing on AIRFOILSELFNOISE dataset"
   ]
  },
  {
   "cell_type": "code",
   "execution_count": 22,
   "metadata": {},
   "outputs": [],
   "source": [
    "# Load AirfoilSelfNoise dataset\n",
    "df=pd.read_csv('AirfoilSelfNoise.csv')\n",
    "X = df[['f', 'alpha', 'c', 'U_infinity', 'delta']].values\n",
    "y = df[['SSPL']].values"
   ]
  },
  {
   "cell_type": "code",
   "execution_count": 23,
   "metadata": {},
   "outputs": [
    {
     "data": {
      "image/png": "[encoded data removed]",
      "text/plain": [
       "<Figure size 1440x1080 with 6 Axes>"
      ]
     },
     "metadata": {
      "needs_background": "light"
     },
     "output_type": "display_data"
    }
   ],
   "source": [
    "# Dataset visualisation\n",
    "df.hist(bins=50, figsize=(20,15))\n",
    "plt.show()"
   ]
  },
  {
   "cell_type": "code",
   "execution_count": 24,
   "metadata": {},
   "outputs": [],
   "source": [
    "# Split data on training and test dataset\n",
    "X_train, y_train, X_test, y_test = train_test_split(X,y,0.3)"
   ]
  },
  {
   "cell_type": "code",
   "execution_count": 25,
   "metadata": {},
   "outputs": [
    {
     "name": "stdout",
     "output_type": "stream",
     "text": [
      "MSE for Decision Tree Algorithm is  [28.58112615]\n"
     ]
    }
   ],
   "source": [
    "# Decision Tree Regressor\n",
    "decision_tree=decision_tree_regression(X_train,y_train)\n",
    "\n",
    "# Decision Tree MSE\n",
    "dt_mse = DT_MSE(X_test, y_test,decision_tree)\n",
    "print (\"MSE for Decision Tree Algorithm is \", dt_mse)"
   ]
  },
  {
   "cell_type": "code",
   "execution_count": 26,
   "metadata": {},
   "outputs": [
    {
     "name": "stdout",
     "output_type": "stream",
     "text": [
      "MSE for Random Forest Algorithm is  [23.3289445]\n",
      "Out-of-bag MSE for Random Forest Algorithm is  29.41263009548431\n"
     ]
    }
   ],
   "source": [
    "# Random Forest Regressor\n",
    "random_trees,X_oob,y_oob=random_forest_regression(X_train,y_train)\n",
    "\n",
    "# Random Forest MSE\n",
    "rf_mse = RF_MSE(X_test, y_test,random_trees)\n",
    "print (\"MSE for Random Forest Algorithm is \", rf_mse)\n",
    "\n",
    "# out-of-bag MSE\n",
    "oob=oob_mse(random_trees,X_oob,y_oob)\n",
    "print (\"Out-of-bag MSE for Random Forest Algorithm is \", oob)"
   ]
  },
  {
   "cell_type": "code",
   "execution_count": 27,
   "metadata": {},
   "outputs": [
    {
     "name": "stdout",
     "output_type": "stream",
     "text": [
      "MSE for Gradient Boosting Algorithm is  [37.11274081]\n"
     ]
    }
   ],
   "source": [
    "# Gradient Boosting\n",
    "gb_trees=gradient_boosting(X_train,y_train)\n",
    "\n",
    "# Gradient Boosting MSE\n",
    "gb_mse = GB_MSE(X_test,y_test,gb_trees)\n",
    "print (\"MSE for Gradient Boosting Algorithm is \", gb_mse)"
   ]
  },
  {
   "cell_type": "code",
   "execution_count": 28,
   "metadata": {},
   "outputs": [
    {
     "data": {
      "image/png": "[encoded data removed]",
      "text/plain": [
       "<Figure size 432x288 with 1 Axes>"
      ]
     },
     "metadata": {
      "needs_background": "light"
     },
     "output_type": "display_data"
    }
   ],
   "source": [
    "# Models evaluation visualisation\n",
    "models_list=['Decision Tree','Random Forest','Gradient Boosting']\n",
    "mse_list=[dt_mse[0],rf_mse[0],gb_mse[0]]\n",
    "plt.xlabel('Model')\n",
    "plt.ylabel('Mean Squared Error')\n",
    "plt.bar(models_list, mse_list)\n",
    "plt.show()"
   ]
  },
  {
   "cell_type": "markdown",
   "metadata": {},
   "source": [
    "### Testing on WINE QUALITY dataset"
   ]
  },
  {
   "cell_type": "code",
   "execution_count": 33,
   "metadata": {},
   "outputs": [],
   "source": [
    "# Load Wine quality dataset\n",
    "df_w=pd.read_csv('winequality-red.csv')\n",
    "X_w = df_w[['fixed acidity', 'volatile acidity', 'citric acid', 'residual sugar',\n",
    "       'chlorides', 'free sulfur dioxide', 'total sulfur dioxide', 'density',\n",
    "       'pH', 'sulphates', 'alcohol']].values\n",
    "y_w = df_w[['quality']].values"
   ]
  },
  {
   "cell_type": "code",
   "execution_count": 34,
   "metadata": {},
   "outputs": [
    {
     "data": {
      "image/png": "[encoded data removed]",
      "text/plain": [
       "<Figure size 1440x1080 with 12 Axes>"
      ]
     },
     "metadata": {
      "needs_background": "light"
     },
     "output_type": "display_data"
    }
   ],
   "source": [
    "# Dataset visualisation\n",
    "df_w.hist(bins=50, figsize=(20,15))\n",
    "plt.show()"
   ]
  },
  {
   "cell_type": "code",
   "execution_count": 35,
   "metadata": {},
   "outputs": [],
   "source": [
    "# Split data on training and test dataset\n",
    "X_train_w, y_train_w, X_test_w, y_test_w = train_test_split(X_w,y_w,0.2)\n"
   ]
  },
  {
   "cell_type": "code",
   "execution_count": 36,
   "metadata": {},
   "outputs": [
    {
     "name": "stdout",
     "output_type": "stream",
     "text": [
      "MSE for Decision Tree Algorithm is  [0.43657933]\n"
     ]
    }
   ],
   "source": [
    "# Decision Tree Regressor\n",
    "decision_tree_w=decision_tree_regression(X_train_w,y_train_w)\n",
    "\n",
    "# Decision Tree MSE\n",
    "dt_mse_w = DT_MSE(X_test_w, y_test_w,decision_tree_w)\n",
    "print (\"MSE for Decision Tree Algorithm is \", dt_mse_w)"
   ]
  },
  {
   "cell_type": "code",
   "execution_count": 37,
   "metadata": {},
   "outputs": [
    {
     "name": "stdout",
     "output_type": "stream",
     "text": [
      "MSE for Random Forest Algorithm is  [0.39722779]\n",
      "Out-of-bag MSE for Random Forest Algorithm is  0.526394507646059\n"
     ]
    }
   ],
   "source": [
    "# Random Forest Regressor\n",
    "random_trees_w,X_oob_w,y_oob_w=random_forest_regression(X_train_w,y_train_w)\n",
    "\n",
    "# Random Forest MSE\n",
    "rf_mse_w = RF_MSE(X_test_w, y_test_w,random_trees_w)\n",
    "print (\"MSE for Random Forest Algorithm is \", rf_mse_w)\n",
    "\n",
    "# out-of-bag MSE\n",
    "oob_w=oob_mse(random_trees_w,X_oob_w,y_oob_w)\n",
    "print (\"Out-of-bag MSE for Random Forest Algorithm is \", oob_w)"
   ]
  },
  {
   "cell_type": "code",
   "execution_count": 38,
   "metadata": {},
   "outputs": [
    {
     "name": "stdout",
     "output_type": "stream",
     "text": [
      "MSE for Gradient Boosting Algorithm is  [0.45148222]\n"
     ]
    }
   ],
   "source": [
    "# Gradient Boosting\n",
    "gb_trees_w=gradient_boosting(X_train_w,y_train_w,n_steps=2)\n",
    "\n",
    "# Gradient Boosting MSE\n",
    "gb_mse_w = GB_MSE(X_test_w,y_test_w,gb_trees_w)\n",
    "print (\"MSE for Gradient Boosting Algorithm is \", gb_mse_w)"
   ]
  },
  {
   "cell_type": "code",
   "execution_count": 39,
   "metadata": {},
   "outputs": [
    {
     "data": {
      "image/png": "[encoded data removed]",
      "text/plain": [
       "<Figure size 432x288 with 1 Axes>"
      ]
     },
     "metadata": {
      "needs_background": "light"
     },
     "output_type": "display_data"
    }
   ],
   "source": [
    "# Models evaluation visualisation\n",
    "models_list_w=['Decision Tree','Random Forest','Gradient Boosting']\n",
    "mse_list_w=[dt_mse_w[0],rf_mse_w[0],gb_mse_w[0]]\n",
    "plt.xlabel('Model')\n",
    "plt.ylabel('Mean Squared Error')\n",
    "plt.bar(models_list_w, mse_list_w)\n",
    "plt.show()"
   ]
  },
  {
   "cell_type": "code",
   "execution_count": null,
   "metadata": {},
   "outputs": [],
   "source": []
  }
 ],
 "metadata": {
  "kernelspec": {
   "display_name": "Python 3 (ipykernel)",
   "language": "python",
   "name": "python3"
  },
  "language_info": {
   "codemirror_mode": {
    "name": "ipython",
    "version": 3
   },
   "file_extension": ".py",
   "mimetype": "text/x-python",
   "name": "python",
   "nbconvert_exporter": "python",
   "pygments_lexer": "ipython3",
   "version": "3.9.2"
  }
 },
 "nbformat": 4,
 "nbformat_minor": 4
}
